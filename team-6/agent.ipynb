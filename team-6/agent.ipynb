{
 "cells": [
  {
   "cell_type": "code",
   "execution_count": null,
   "id": "18e4ed70",
   "metadata": {
    "vscode": {
     "languageId": "plaintext"
    }
   },
   "outputs": [],
   "source": [
    "!pip install -r requirements.txt"
   ]
  },
  {
   "cell_type": "markdown",
   "id": "eafdf69b",
   "metadata": {},
   "source": [
    "LLM"
   ]
  },
  {
   "cell_type": "code",
   "execution_count": null,
   "id": "a134fff2",
   "metadata": {
    "vscode": {
     "languageId": "plaintext"
    }
   },
   "outputs": [],
   "source": [
    "from langchain_google_genai import ChatGoogleGenerativeAI\n",
    "\n",
    "# assume you have an API key and it is set in your ENV vars ...\n",
    "google_api_key = userdata.get('GOOGLE_API_KEY')\n",
    "\n",
    "# create the LLM\n",
    "llm = ChatGoogleGenerativeAI(\n",
    "    model=\"gemini-2.0-flash-001\",\n",
    "    google_api_key=google_api_key)"
   ]
  },
  {
   "cell_type": "markdown",
   "id": "a19919e7",
   "metadata": {},
   "source": [
    "System"
   ]
  },
  {
   "cell_type": "code",
   "execution_count": null,
   "id": "7967b2c3",
   "metadata": {
    "vscode": {
     "languageId": "plaintext"
    }
   },
   "outputs": [],
   "source": [
    "# set the system prompt for the LLM here\n",
    "from langchain_core.messages import SystemMessage\n",
    "SystemMessage(content=\"You are a helpful assistant.\")\n"
   ]
  },
  {
   "cell_type": "markdown",
   "id": "86e72869",
   "metadata": {},
   "source": [
    "Knowledgebase"
   ]
  },
  {
   "cell_type": "code",
   "execution_count": null,
   "id": "13401d5a",
   "metadata": {
    "vscode": {
     "languageId": "plaintext"
    }
   },
   "outputs": [],
   "source": [
    "# set up any DB's here"
   ]
  },
  {
   "cell_type": "markdown",
   "id": "1376eb6f",
   "metadata": {},
   "source": [
    "Tools"
   ]
  },
  {
   "cell_type": "code",
   "execution_count": null,
   "id": "9f8f397b",
   "metadata": {
    "vscode": {
     "languageId": "plaintext"
    }
   },
   "outputs": [],
   "source": [
    "# define any tools here"
   ]
  },
  {
   "cell_type": "markdown",
   "id": "d0bae372",
   "metadata": {},
   "source": [
    "Orchestrator"
   ]
  },
  {
   "cell_type": "code",
   "execution_count": null,
   "id": "23eb5e63",
   "metadata": {
    "vscode": {
     "languageId": "plaintext"
    }
   },
   "outputs": [],
   "source": [
    "# set up LangChain/LangGraph here"
   ]
  }
 ],
 "metadata": {
  "language_info": {
   "name": "python"
  }
 },
 "nbformat": 4,
 "nbformat_minor": 5
}
