{
 "cells": [
  {
   "cell_type": "code",
   "execution_count": null,
   "id": "18e4ed70",
   "metadata": {},
   "outputs": [],
   "source": [
    "%pip install -r requirements.txt"
   ]
  },
  {
   "cell_type": "markdown",
   "id": "503d3407",
   "metadata": {},
   "source": [
    "API Keys"
   ]
  },
  {
   "cell_type": "code",
   "execution_count": 1,
   "id": "6599a629",
   "metadata": {},
   "outputs": [],
   "source": [
    "# set your API keys i nthe .env file..\n",
    "import os\n",
    "from dotenv import load_dotenv\n",
    "load_dotenv()\n",
    "langsmith_api_key=os.getenv('LANGCHAIN_API_KEY')\n",
    "google_api_key=os.getenv('GOOGLE_API_KEY')"
   ]
  },
  {
   "cell_type": "markdown",
   "id": "5afc5554",
   "metadata": {},
   "source": [
    "Tracability"
   ]
  },
  {
   "cell_type": "code",
   "execution_count": 5,
   "id": "c8b6ca38",
   "metadata": {},
   "outputs": [],
   "source": [
    "from langchain.callbacks.tracers.langchain import LangChainTracer\n",
    "\n",
    "# Enable tracing\n",
    "tracer = LangChainTracer()"
   ]
  },
  {
   "cell_type": "markdown",
   "id": "eafdf69b",
   "metadata": {},
   "source": [
    "LLM"
   ]
  },
  {
   "cell_type": "code",
   "execution_count": 6,
   "id": "a134fff2",
   "metadata": {},
   "outputs": [],
   "source": [
    "from langchain_google_genai import ChatGoogleGenerativeAI\n",
    "\n",
    "# create the LLM\n",
    "llm = ChatGoogleGenerativeAI(\n",
    "    model=\"gemini-2.0-flash-001\",\n",
    "    google_api_key=google_api_key,\n",
    "    callbacks=[tracer])"
   ]
  },
  {
   "cell_type": "markdown",
   "id": "a19919e7",
   "metadata": {},
   "source": [
    "System"
   ]
  },
  {
   "cell_type": "code",
   "execution_count": 7,
   "id": "7967b2c3",
   "metadata": {},
   "outputs": [
    {
     "data": {
      "text/plain": [
       "SystemMessage(content='You are a helpful assistant.', additional_kwargs={}, response_metadata={})"
      ]
     },
     "execution_count": 7,
     "metadata": {},
     "output_type": "execute_result"
    }
   ],
   "source": [
    "# set the system prompt for the LLM here\n",
    "from langchain_core.messages import SystemMessage\n",
    "SystemMessage(content=\"You are a helpful assistant.\")\n"
   ]
  },
  {
   "cell_type": "markdown",
   "id": "86e72869",
   "metadata": {},
   "source": [
    "Knowledgebase"
   ]
  },
  {
   "cell_type": "code",
   "execution_count": null,
   "id": "13401d5a",
   "metadata": {},
   "outputs": [],
   "source": [
    "# set up any DB's here"
   ]
  },
  {
   "cell_type": "markdown",
   "id": "1376eb6f",
   "metadata": {},
   "source": [
    "Tools"
   ]
  },
  {
   "cell_type": "code",
   "execution_count": null,
   "id": "9f8f397b",
   "metadata": {},
   "outputs": [],
   "source": [
    "# define any tools here"
   ]
  },
  {
   "cell_type": "markdown",
   "id": "d0bae372",
   "metadata": {},
   "source": [
    "Orchestrator"
   ]
  },
  {
   "cell_type": "code",
   "execution_count": null,
   "id": "23eb5e63",
   "metadata": {},
   "outputs": [],
   "source": [
    "# set up LangChain/LangGraph here"
   ]
  }
 ],
 "metadata": {
  "kernelspec": {
   "display_name": "aotw",
   "language": "python",
   "name": "python3"
  },
  "language_info": {
   "codemirror_mode": {
    "name": "ipython",
    "version": 3
   },
   "file_extension": ".py",
   "mimetype": "text/x-python",
   "name": "python",
   "nbconvert_exporter": "python",
   "pygments_lexer": "ipython3",
   "version": "3.13.0"
  }
 },
 "nbformat": 4,
 "nbformat_minor": 5
}
