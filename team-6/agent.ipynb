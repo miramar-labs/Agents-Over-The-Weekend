{
 "cells": [
  {
   "cell_type": "code",
   "execution_count": 37,
   "id": "18e4ed70",
   "metadata": {},
   "outputs": [
    {
     "name": "stderr",
     "output_type": "stream",
     "text": [
      "2978.31s - pydevd: Sending message related to process being replaced timed-out after 5 seconds\n"
     ]
    },
    {
     "name": "stdout",
     "output_type": "stream",
     "text": [
      "Requirement already satisfied: requests in /home/aaron/.pyenv/versions/3.13.0/envs/aotw/lib/python3.13/site-packages (from -r requirements.txt (line 1)) (2.32.4)\n",
      "Requirement already satisfied: python-dotenv in /home/aaron/.pyenv/versions/3.13.0/envs/aotw/lib/python3.13/site-packages (from -r requirements.txt (line 2)) (1.1.1)\n",
      "Requirement already satisfied: openai in /home/aaron/.pyenv/versions/3.13.0/envs/aotw/lib/python3.13/site-packages (from -r requirements.txt (line 3)) (1.91.0)\n",
      "Requirement already satisfied: langchain==0.3.26 in /home/aaron/.pyenv/versions/3.13.0/envs/aotw/lib/python3.13/site-packages (from -r requirements.txt (line 4)) (0.3.26)\n",
      "Requirement already satisfied: langchain-core==0.3.66 in /home/aaron/.pyenv/versions/3.13.0/envs/aotw/lib/python3.13/site-packages (from -r requirements.txt (line 5)) (0.3.66)\n",
      "Requirement already satisfied: langchain-openai==0.3.25 in /home/aaron/.pyenv/versions/3.13.0/envs/aotw/lib/python3.13/site-packages (from -r requirements.txt (line 6)) (0.3.25)\n",
      "Requirement already satisfied: langchain-community==0.3.26 in /home/aaron/.pyenv/versions/3.13.0/envs/aotw/lib/python3.13/site-packages (from -r requirements.txt (line 7)) (0.3.26)\n",
      "Requirement already satisfied: langchain-chroma==0.2.4 in /home/aaron/.pyenv/versions/3.13.0/envs/aotw/lib/python3.13/site-packages (from -r requirements.txt (line 8)) (0.2.4)\n",
      "Requirement already satisfied: langchain-text-splitters==0.3.8 in /home/aaron/.pyenv/versions/3.13.0/envs/aotw/lib/python3.13/site-packages (from -r requirements.txt (line 9)) (0.3.8)\n",
      "Requirement already satisfied: langsmith in /home/aaron/.pyenv/versions/3.13.0/envs/aotw/lib/python3.13/site-packages (from -r requirements.txt (line 10)) (0.4.1)\n",
      "Requirement already satisfied: langgraph==0.4.8 in /home/aaron/.pyenv/versions/3.13.0/envs/aotw/lib/python3.13/site-packages (from -r requirements.txt (line 11)) (0.4.8)\n",
      "Requirement already satisfied: youtube-transcript-api in /home/aaron/.pyenv/versions/3.13.0/envs/aotw/lib/python3.13/site-packages (from -r requirements.txt (line 12)) (1.1.0)\n",
      "Requirement already satisfied: google-api-python-client in /home/aaron/.pyenv/versions/3.13.0/envs/aotw/lib/python3.13/site-packages (from -r requirements.txt (line 13)) (2.173.0)\n",
      "Requirement already satisfied: sentence-transformers in /home/aaron/.pyenv/versions/3.13.0/envs/aotw/lib/python3.13/site-packages (from -r requirements.txt (line 14)) (4.1.0)\n",
      "Requirement already satisfied: faiss-cpu in /home/aaron/.pyenv/versions/3.13.0/envs/aotw/lib/python3.13/site-packages (from -r requirements.txt (line 15)) (1.11.0)\n",
      "Requirement already satisfied: tqdm in /home/aaron/.pyenv/versions/3.13.0/envs/aotw/lib/python3.13/site-packages (from -r requirements.txt (line 16)) (4.67.1)\n",
      "Requirement already satisfied: numpy in /home/aaron/.pyenv/versions/3.13.0/envs/aotw/lib/python3.13/site-packages (from -r requirements.txt (line 17)) (2.3.1)\n",
      "Requirement already satisfied: ipython in /home/aaron/.pyenv/versions/3.13.0/envs/aotw/lib/python3.13/site-packages (from -r requirements.txt (line 18)) (9.3.0)\n",
      "Requirement already satisfied: pydantic<3.0.0,>=2.7.4 in /home/aaron/.pyenv/versions/3.13.0/envs/aotw/lib/python3.13/site-packages (from langchain==0.3.26->-r requirements.txt (line 4)) (2.11.7)\n",
      "Requirement already satisfied: SQLAlchemy<3,>=1.4 in /home/aaron/.pyenv/versions/3.13.0/envs/aotw/lib/python3.13/site-packages (from langchain==0.3.26->-r requirements.txt (line 4)) (2.0.41)\n",
      "Requirement already satisfied: PyYAML>=5.3 in /home/aaron/.pyenv/versions/3.13.0/envs/aotw/lib/python3.13/site-packages (from langchain==0.3.26->-r requirements.txt (line 4)) (6.0.2)\n",
      "Requirement already satisfied: tenacity!=8.4.0,<10.0.0,>=8.1.0 in /home/aaron/.pyenv/versions/3.13.0/envs/aotw/lib/python3.13/site-packages (from langchain-core==0.3.66->-r requirements.txt (line 5)) (9.1.2)\n",
      "Requirement already satisfied: jsonpatch<2.0,>=1.33 in /home/aaron/.pyenv/versions/3.13.0/envs/aotw/lib/python3.13/site-packages (from langchain-core==0.3.66->-r requirements.txt (line 5)) (1.33)\n",
      "Requirement already satisfied: packaging<25,>=23.2 in /home/aaron/.pyenv/versions/3.13.0/envs/aotw/lib/python3.13/site-packages (from langchain-core==0.3.66->-r requirements.txt (line 5)) (24.2)\n",
      "Requirement already satisfied: typing-extensions>=4.7 in /home/aaron/.pyenv/versions/3.13.0/envs/aotw/lib/python3.13/site-packages (from langchain-core==0.3.66->-r requirements.txt (line 5)) (4.14.0)\n",
      "Requirement already satisfied: tiktoken<1,>=0.7 in /home/aaron/.pyenv/versions/3.13.0/envs/aotw/lib/python3.13/site-packages (from langchain-openai==0.3.25->-r requirements.txt (line 6)) (0.9.0)\n",
      "Requirement already satisfied: aiohttp<4.0.0,>=3.8.3 in /home/aaron/.pyenv/versions/3.13.0/envs/aotw/lib/python3.13/site-packages (from langchain-community==0.3.26->-r requirements.txt (line 7)) (3.12.13)\n",
      "Requirement already satisfied: dataclasses-json<0.7,>=0.5.7 in /home/aaron/.pyenv/versions/3.13.0/envs/aotw/lib/python3.13/site-packages (from langchain-community==0.3.26->-r requirements.txt (line 7)) (0.6.7)\n",
      "Requirement already satisfied: pydantic-settings<3.0.0,>=2.4.0 in /home/aaron/.pyenv/versions/3.13.0/envs/aotw/lib/python3.13/site-packages (from langchain-community==0.3.26->-r requirements.txt (line 7)) (2.10.1)\n",
      "Requirement already satisfied: httpx-sse<1.0.0,>=0.4.0 in /home/aaron/.pyenv/versions/3.13.0/envs/aotw/lib/python3.13/site-packages (from langchain-community==0.3.26->-r requirements.txt (line 7)) (0.4.1)\n",
      "Requirement already satisfied: chromadb>=1.0.9 in /home/aaron/.pyenv/versions/3.13.0/envs/aotw/lib/python3.13/site-packages (from langchain-chroma==0.2.4->-r requirements.txt (line 8)) (1.0.13)\n",
      "Requirement already satisfied: langgraph-checkpoint>=2.0.26 in /home/aaron/.pyenv/versions/3.13.0/envs/aotw/lib/python3.13/site-packages (from langgraph==0.4.8->-r requirements.txt (line 11)) (2.1.0)\n",
      "Requirement already satisfied: langgraph-prebuilt>=0.2.0 in /home/aaron/.pyenv/versions/3.13.0/envs/aotw/lib/python3.13/site-packages (from langgraph==0.4.8->-r requirements.txt (line 11)) (0.2.2)\n",
      "Requirement already satisfied: langgraph-sdk>=0.1.42 in /home/aaron/.pyenv/versions/3.13.0/envs/aotw/lib/python3.13/site-packages (from langgraph==0.4.8->-r requirements.txt (line 11)) (0.1.70)\n",
      "Requirement already satisfied: xxhash>=3.5.0 in /home/aaron/.pyenv/versions/3.13.0/envs/aotw/lib/python3.13/site-packages (from langgraph==0.4.8->-r requirements.txt (line 11)) (3.5.0)\n",
      "Requirement already satisfied: charset_normalizer<4,>=2 in /home/aaron/.pyenv/versions/3.13.0/envs/aotw/lib/python3.13/site-packages (from requests->-r requirements.txt (line 1)) (3.4.2)\n",
      "Requirement already satisfied: idna<4,>=2.5 in /home/aaron/.pyenv/versions/3.13.0/envs/aotw/lib/python3.13/site-packages (from requests->-r requirements.txt (line 1)) (3.10)\n",
      "Requirement already satisfied: urllib3<3,>=1.21.1 in /home/aaron/.pyenv/versions/3.13.0/envs/aotw/lib/python3.13/site-packages (from requests->-r requirements.txt (line 1)) (2.5.0)\n",
      "Requirement already satisfied: certifi>=2017.4.17 in /home/aaron/.pyenv/versions/3.13.0/envs/aotw/lib/python3.13/site-packages (from requests->-r requirements.txt (line 1)) (2025.6.15)\n",
      "Requirement already satisfied: anyio<5,>=3.5.0 in /home/aaron/.pyenv/versions/3.13.0/envs/aotw/lib/python3.13/site-packages (from openai->-r requirements.txt (line 3)) (4.9.0)\n",
      "Requirement already satisfied: distro<2,>=1.7.0 in /home/aaron/.pyenv/versions/3.13.0/envs/aotw/lib/python3.13/site-packages (from openai->-r requirements.txt (line 3)) (1.9.0)\n",
      "Requirement already satisfied: httpx<1,>=0.23.0 in /home/aaron/.pyenv/versions/3.13.0/envs/aotw/lib/python3.13/site-packages (from openai->-r requirements.txt (line 3)) (0.28.1)\n",
      "Requirement already satisfied: jiter<1,>=0.4.0 in /home/aaron/.pyenv/versions/3.13.0/envs/aotw/lib/python3.13/site-packages (from openai->-r requirements.txt (line 3)) (0.10.0)\n",
      "Requirement already satisfied: sniffio in /home/aaron/.pyenv/versions/3.13.0/envs/aotw/lib/python3.13/site-packages (from openai->-r requirements.txt (line 3)) (1.3.1)\n",
      "Requirement already satisfied: orjson<4.0.0,>=3.9.14 in /home/aaron/.pyenv/versions/3.13.0/envs/aotw/lib/python3.13/site-packages (from langsmith->-r requirements.txt (line 10)) (3.10.18)\n",
      "Requirement already satisfied: requests-toolbelt<2.0.0,>=1.0.0 in /home/aaron/.pyenv/versions/3.13.0/envs/aotw/lib/python3.13/site-packages (from langsmith->-r requirements.txt (line 10)) (1.0.0)\n",
      "Requirement already satisfied: zstandard<0.24.0,>=0.23.0 in /home/aaron/.pyenv/versions/3.13.0/envs/aotw/lib/python3.13/site-packages (from langsmith->-r requirements.txt (line 10)) (0.23.0)\n",
      "Requirement already satisfied: defusedxml<0.8.0,>=0.7.1 in /home/aaron/.pyenv/versions/3.13.0/envs/aotw/lib/python3.13/site-packages (from youtube-transcript-api->-r requirements.txt (line 12)) (0.7.1)\n",
      "Requirement already satisfied: httplib2<1.0.0,>=0.19.0 in /home/aaron/.pyenv/versions/3.13.0/envs/aotw/lib/python3.13/site-packages (from google-api-python-client->-r requirements.txt (line 13)) (0.22.0)\n",
      "Requirement already satisfied: google-auth!=2.24.0,!=2.25.0,<3.0.0,>=1.32.0 in /home/aaron/.pyenv/versions/3.13.0/envs/aotw/lib/python3.13/site-packages (from google-api-python-client->-r requirements.txt (line 13)) (2.40.3)\n",
      "Requirement already satisfied: google-auth-httplib2<1.0.0,>=0.2.0 in /home/aaron/.pyenv/versions/3.13.0/envs/aotw/lib/python3.13/site-packages (from google-api-python-client->-r requirements.txt (line 13)) (0.2.0)\n",
      "Requirement already satisfied: google-api-core!=2.0.*,!=2.1.*,!=2.2.*,!=2.3.0,<3.0.0,>=1.31.5 in /home/aaron/.pyenv/versions/3.13.0/envs/aotw/lib/python3.13/site-packages (from google-api-python-client->-r requirements.txt (line 13)) (2.25.1)\n",
      "Requirement already satisfied: uritemplate<5,>=3.0.1 in /home/aaron/.pyenv/versions/3.13.0/envs/aotw/lib/python3.13/site-packages (from google-api-python-client->-r requirements.txt (line 13)) (4.2.0)\n",
      "Requirement already satisfied: transformers<5.0.0,>=4.41.0 in /home/aaron/.pyenv/versions/3.13.0/envs/aotw/lib/python3.13/site-packages (from sentence-transformers->-r requirements.txt (line 14)) (4.52.4)\n",
      "Requirement already satisfied: torch>=1.11.0 in /home/aaron/.pyenv/versions/3.13.0/envs/aotw/lib/python3.13/site-packages (from sentence-transformers->-r requirements.txt (line 14)) (2.7.1)\n",
      "Requirement already satisfied: scikit-learn in /home/aaron/.pyenv/versions/3.13.0/envs/aotw/lib/python3.13/site-packages (from sentence-transformers->-r requirements.txt (line 14)) (1.7.0)\n",
      "Requirement already satisfied: scipy in /home/aaron/.pyenv/versions/3.13.0/envs/aotw/lib/python3.13/site-packages (from sentence-transformers->-r requirements.txt (line 14)) (1.16.0)\n",
      "Requirement already satisfied: huggingface-hub>=0.20.0 in /home/aaron/.pyenv/versions/3.13.0/envs/aotw/lib/python3.13/site-packages (from sentence-transformers->-r requirements.txt (line 14)) (0.33.0)\n",
      "Requirement already satisfied: Pillow in /home/aaron/.pyenv/versions/3.13.0/envs/aotw/lib/python3.13/site-packages (from sentence-transformers->-r requirements.txt (line 14)) (11.2.1)\n",
      "Requirement already satisfied: decorator in /home/aaron/.pyenv/versions/3.13.0/envs/aotw/lib/python3.13/site-packages (from ipython->-r requirements.txt (line 18)) (5.2.1)\n",
      "Requirement already satisfied: ipython-pygments-lexers in /home/aaron/.pyenv/versions/3.13.0/envs/aotw/lib/python3.13/site-packages (from ipython->-r requirements.txt (line 18)) (1.1.1)\n",
      "Requirement already satisfied: jedi>=0.16 in /home/aaron/.pyenv/versions/3.13.0/envs/aotw/lib/python3.13/site-packages (from ipython->-r requirements.txt (line 18)) (0.19.2)\n",
      "Requirement already satisfied: matplotlib-inline in /home/aaron/.pyenv/versions/3.13.0/envs/aotw/lib/python3.13/site-packages (from ipython->-r requirements.txt (line 18)) (0.1.7)\n",
      "Requirement already satisfied: pexpect>4.3 in /home/aaron/.pyenv/versions/3.13.0/envs/aotw/lib/python3.13/site-packages (from ipython->-r requirements.txt (line 18)) (4.9.0)\n",
      "Requirement already satisfied: prompt_toolkit<3.1.0,>=3.0.41 in /home/aaron/.pyenv/versions/3.13.0/envs/aotw/lib/python3.13/site-packages (from ipython->-r requirements.txt (line 18)) (3.0.51)\n",
      "Requirement already satisfied: pygments>=2.4.0 in /home/aaron/.pyenv/versions/3.13.0/envs/aotw/lib/python3.13/site-packages (from ipython->-r requirements.txt (line 18)) (2.19.2)\n",
      "Requirement already satisfied: stack_data in /home/aaron/.pyenv/versions/3.13.0/envs/aotw/lib/python3.13/site-packages (from ipython->-r requirements.txt (line 18)) (0.6.3)\n",
      "Requirement already satisfied: traitlets>=5.13.0 in /home/aaron/.pyenv/versions/3.13.0/envs/aotw/lib/python3.13/site-packages (from ipython->-r requirements.txt (line 18)) (5.14.3)\n",
      "Requirement already satisfied: aiohappyeyeballs>=2.5.0 in /home/aaron/.pyenv/versions/3.13.0/envs/aotw/lib/python3.13/site-packages (from aiohttp<4.0.0,>=3.8.3->langchain-community==0.3.26->-r requirements.txt (line 7)) (2.6.1)\n",
      "Requirement already satisfied: aiosignal>=1.1.2 in /home/aaron/.pyenv/versions/3.13.0/envs/aotw/lib/python3.13/site-packages (from aiohttp<4.0.0,>=3.8.3->langchain-community==0.3.26->-r requirements.txt (line 7)) (1.3.2)\n",
      "Requirement already satisfied: attrs>=17.3.0 in /home/aaron/.pyenv/versions/3.13.0/envs/aotw/lib/python3.13/site-packages (from aiohttp<4.0.0,>=3.8.3->langchain-community==0.3.26->-r requirements.txt (line 7)) (25.3.0)\n",
      "Requirement already satisfied: frozenlist>=1.1.1 in /home/aaron/.pyenv/versions/3.13.0/envs/aotw/lib/python3.13/site-packages (from aiohttp<4.0.0,>=3.8.3->langchain-community==0.3.26->-r requirements.txt (line 7)) (1.7.0)\n",
      "Requirement already satisfied: multidict<7.0,>=4.5 in /home/aaron/.pyenv/versions/3.13.0/envs/aotw/lib/python3.13/site-packages (from aiohttp<4.0.0,>=3.8.3->langchain-community==0.3.26->-r requirements.txt (line 7)) (6.5.1)\n",
      "Requirement already satisfied: propcache>=0.2.0 in /home/aaron/.pyenv/versions/3.13.0/envs/aotw/lib/python3.13/site-packages (from aiohttp<4.0.0,>=3.8.3->langchain-community==0.3.26->-r requirements.txt (line 7)) (0.3.2)\n",
      "Requirement already satisfied: yarl<2.0,>=1.17.0 in /home/aaron/.pyenv/versions/3.13.0/envs/aotw/lib/python3.13/site-packages (from aiohttp<4.0.0,>=3.8.3->langchain-community==0.3.26->-r requirements.txt (line 7)) (1.20.1)\n",
      "Requirement already satisfied: build>=1.0.3 in /home/aaron/.pyenv/versions/3.13.0/envs/aotw/lib/python3.13/site-packages (from chromadb>=1.0.9->langchain-chroma==0.2.4->-r requirements.txt (line 8)) (1.2.2.post1)\n",
      "Requirement already satisfied: pybase64>=1.4.1 in /home/aaron/.pyenv/versions/3.13.0/envs/aotw/lib/python3.13/site-packages (from chromadb>=1.0.9->langchain-chroma==0.2.4->-r requirements.txt (line 8)) (1.4.1)\n",
      "Requirement already satisfied: uvicorn>=0.18.3 in /home/aaron/.pyenv/versions/3.13.0/envs/aotw/lib/python3.13/site-packages (from uvicorn[standard]>=0.18.3->chromadb>=1.0.9->langchain-chroma==0.2.4->-r requirements.txt (line 8)) (0.34.3)\n",
      "Requirement already satisfied: posthog>=2.4.0 in /home/aaron/.pyenv/versions/3.13.0/envs/aotw/lib/python3.13/site-packages (from chromadb>=1.0.9->langchain-chroma==0.2.4->-r requirements.txt (line 8)) (5.4.0)\n",
      "Requirement already satisfied: onnxruntime>=1.14.1 in /home/aaron/.pyenv/versions/3.13.0/envs/aotw/lib/python3.13/site-packages (from chromadb>=1.0.9->langchain-chroma==0.2.4->-r requirements.txt (line 8)) (1.22.0)\n",
      "Requirement already satisfied: opentelemetry-api>=1.2.0 in /home/aaron/.pyenv/versions/3.13.0/envs/aotw/lib/python3.13/site-packages (from chromadb>=1.0.9->langchain-chroma==0.2.4->-r requirements.txt (line 8)) (1.34.1)\n",
      "Requirement already satisfied: opentelemetry-exporter-otlp-proto-grpc>=1.2.0 in /home/aaron/.pyenv/versions/3.13.0/envs/aotw/lib/python3.13/site-packages (from chromadb>=1.0.9->langchain-chroma==0.2.4->-r requirements.txt (line 8)) (1.34.1)\n",
      "Requirement already satisfied: opentelemetry-sdk>=1.2.0 in /home/aaron/.pyenv/versions/3.13.0/envs/aotw/lib/python3.13/site-packages (from chromadb>=1.0.9->langchain-chroma==0.2.4->-r requirements.txt (line 8)) (1.34.1)\n",
      "Requirement already satisfied: tokenizers>=0.13.2 in /home/aaron/.pyenv/versions/3.13.0/envs/aotw/lib/python3.13/site-packages (from chromadb>=1.0.9->langchain-chroma==0.2.4->-r requirements.txt (line 8)) (0.21.2)\n",
      "Requirement already satisfied: pypika>=0.48.9 in /home/aaron/.pyenv/versions/3.13.0/envs/aotw/lib/python3.13/site-packages (from chromadb>=1.0.9->langchain-chroma==0.2.4->-r requirements.txt (line 8)) (0.48.9)\n",
      "Requirement already satisfied: overrides>=7.3.1 in /home/aaron/.pyenv/versions/3.13.0/envs/aotw/lib/python3.13/site-packages (from chromadb>=1.0.9->langchain-chroma==0.2.4->-r requirements.txt (line 8)) (7.7.0)\n",
      "Requirement already satisfied: importlib-resources in /home/aaron/.pyenv/versions/3.13.0/envs/aotw/lib/python3.13/site-packages (from chromadb>=1.0.9->langchain-chroma==0.2.4->-r requirements.txt (line 8)) (6.5.2)\n",
      "Requirement already satisfied: grpcio>=1.58.0 in /home/aaron/.pyenv/versions/3.13.0/envs/aotw/lib/python3.13/site-packages (from chromadb>=1.0.9->langchain-chroma==0.2.4->-r requirements.txt (line 8)) (1.73.0)\n",
      "Requirement already satisfied: bcrypt>=4.0.1 in /home/aaron/.pyenv/versions/3.13.0/envs/aotw/lib/python3.13/site-packages (from chromadb>=1.0.9->langchain-chroma==0.2.4->-r requirements.txt (line 8)) (4.3.0)\n",
      "Requirement already satisfied: typer>=0.9.0 in /home/aaron/.pyenv/versions/3.13.0/envs/aotw/lib/python3.13/site-packages (from chromadb>=1.0.9->langchain-chroma==0.2.4->-r requirements.txt (line 8)) (0.16.0)\n",
      "Requirement already satisfied: kubernetes>=28.1.0 in /home/aaron/.pyenv/versions/3.13.0/envs/aotw/lib/python3.13/site-packages (from chromadb>=1.0.9->langchain-chroma==0.2.4->-r requirements.txt (line 8)) (33.1.0)\n",
      "Requirement already satisfied: mmh3>=4.0.1 in /home/aaron/.pyenv/versions/3.13.0/envs/aotw/lib/python3.13/site-packages (from chromadb>=1.0.9->langchain-chroma==0.2.4->-r requirements.txt (line 8)) (5.1.0)\n",
      "Requirement already satisfied: rich>=10.11.0 in /home/aaron/.pyenv/versions/3.13.0/envs/aotw/lib/python3.13/site-packages (from chromadb>=1.0.9->langchain-chroma==0.2.4->-r requirements.txt (line 8)) (14.0.0)\n",
      "Requirement already satisfied: jsonschema>=4.19.0 in /home/aaron/.pyenv/versions/3.13.0/envs/aotw/lib/python3.13/site-packages (from chromadb>=1.0.9->langchain-chroma==0.2.4->-r requirements.txt (line 8)) (4.24.0)\n",
      "Requirement already satisfied: marshmallow<4.0.0,>=3.18.0 in /home/aaron/.pyenv/versions/3.13.0/envs/aotw/lib/python3.13/site-packages (from dataclasses-json<0.7,>=0.5.7->langchain-community==0.3.26->-r requirements.txt (line 7)) (3.26.1)\n",
      "Requirement already satisfied: typing-inspect<1,>=0.4.0 in /home/aaron/.pyenv/versions/3.13.0/envs/aotw/lib/python3.13/site-packages (from dataclasses-json<0.7,>=0.5.7->langchain-community==0.3.26->-r requirements.txt (line 7)) (0.9.0)\n",
      "Requirement already satisfied: googleapis-common-protos<2.0.0,>=1.56.2 in /home/aaron/.pyenv/versions/3.13.0/envs/aotw/lib/python3.13/site-packages (from google-api-core!=2.0.*,!=2.1.*,!=2.2.*,!=2.3.0,<3.0.0,>=1.31.5->google-api-python-client->-r requirements.txt (line 13)) (1.70.0)\n",
      "Requirement already satisfied: protobuf!=3.20.0,!=3.20.1,!=4.21.0,!=4.21.1,!=4.21.2,!=4.21.3,!=4.21.4,!=4.21.5,<7.0.0,>=3.19.5 in /home/aaron/.pyenv/versions/3.13.0/envs/aotw/lib/python3.13/site-packages (from google-api-core!=2.0.*,!=2.1.*,!=2.2.*,!=2.3.0,<3.0.0,>=1.31.5->google-api-python-client->-r requirements.txt (line 13)) (5.29.5)\n",
      "Requirement already satisfied: proto-plus<2.0.0,>=1.22.3 in /home/aaron/.pyenv/versions/3.13.0/envs/aotw/lib/python3.13/site-packages (from google-api-core!=2.0.*,!=2.1.*,!=2.2.*,!=2.3.0,<3.0.0,>=1.31.5->google-api-python-client->-r requirements.txt (line 13)) (1.26.1)\n",
      "Requirement already satisfied: cachetools<6.0,>=2.0.0 in /home/aaron/.pyenv/versions/3.13.0/envs/aotw/lib/python3.13/site-packages (from google-auth!=2.24.0,!=2.25.0,<3.0.0,>=1.32.0->google-api-python-client->-r requirements.txt (line 13)) (5.5.2)\n",
      "Requirement already satisfied: pyasn1-modules>=0.2.1 in /home/aaron/.pyenv/versions/3.13.0/envs/aotw/lib/python3.13/site-packages (from google-auth!=2.24.0,!=2.25.0,<3.0.0,>=1.32.0->google-api-python-client->-r requirements.txt (line 13)) (0.4.2)\n",
      "Requirement already satisfied: rsa<5,>=3.1.4 in /home/aaron/.pyenv/versions/3.13.0/envs/aotw/lib/python3.13/site-packages (from google-auth!=2.24.0,!=2.25.0,<3.0.0,>=1.32.0->google-api-python-client->-r requirements.txt (line 13)) (4.9.1)\n",
      "Requirement already satisfied: pyparsing!=3.0.0,!=3.0.1,!=3.0.2,!=3.0.3,<4,>=2.4.2 in /home/aaron/.pyenv/versions/3.13.0/envs/aotw/lib/python3.13/site-packages (from httplib2<1.0.0,>=0.19.0->google-api-python-client->-r requirements.txt (line 13)) (3.2.3)\n",
      "Requirement already satisfied: httpcore==1.* in /home/aaron/.pyenv/versions/3.13.0/envs/aotw/lib/python3.13/site-packages (from httpx<1,>=0.23.0->openai->-r requirements.txt (line 3)) (1.0.9)\n",
      "Requirement already satisfied: h11>=0.16 in /home/aaron/.pyenv/versions/3.13.0/envs/aotw/lib/python3.13/site-packages (from httpcore==1.*->httpx<1,>=0.23.0->openai->-r requirements.txt (line 3)) (0.16.0)\n",
      "Requirement already satisfied: filelock in /home/aaron/.pyenv/versions/3.13.0/envs/aotw/lib/python3.13/site-packages (from huggingface-hub>=0.20.0->sentence-transformers->-r requirements.txt (line 14)) (3.18.0)\n",
      "Requirement already satisfied: fsspec>=2023.5.0 in /home/aaron/.pyenv/versions/3.13.0/envs/aotw/lib/python3.13/site-packages (from huggingface-hub>=0.20.0->sentence-transformers->-r requirements.txt (line 14)) (2025.5.1)\n",
      "Requirement already satisfied: hf-xet<2.0.0,>=1.1.2 in /home/aaron/.pyenv/versions/3.13.0/envs/aotw/lib/python3.13/site-packages (from huggingface-hub>=0.20.0->sentence-transformers->-r requirements.txt (line 14)) (1.1.5)\n",
      "Requirement already satisfied: parso<0.9.0,>=0.8.4 in /home/aaron/.pyenv/versions/3.13.0/envs/aotw/lib/python3.13/site-packages (from jedi>=0.16->ipython->-r requirements.txt (line 18)) (0.8.4)\n",
      "Requirement already satisfied: jsonpointer>=1.9 in /home/aaron/.pyenv/versions/3.13.0/envs/aotw/lib/python3.13/site-packages (from jsonpatch<2.0,>=1.33->langchain-core==0.3.66->-r requirements.txt (line 5)) (3.0.0)\n",
      "Requirement already satisfied: ormsgpack>=1.10.0 in /home/aaron/.pyenv/versions/3.13.0/envs/aotw/lib/python3.13/site-packages (from langgraph-checkpoint>=2.0.26->langgraph==0.4.8->-r requirements.txt (line 11)) (1.10.0)\n",
      "Requirement already satisfied: ptyprocess>=0.5 in /home/aaron/.pyenv/versions/3.13.0/envs/aotw/lib/python3.13/site-packages (from pexpect>4.3->ipython->-r requirements.txt (line 18)) (0.7.0)\n",
      "Requirement already satisfied: wcwidth in /home/aaron/.pyenv/versions/3.13.0/envs/aotw/lib/python3.13/site-packages (from prompt_toolkit<3.1.0,>=3.0.41->ipython->-r requirements.txt (line 18)) (0.2.13)\n",
      "Requirement already satisfied: annotated-types>=0.6.0 in /home/aaron/.pyenv/versions/3.13.0/envs/aotw/lib/python3.13/site-packages (from pydantic<3.0.0,>=2.7.4->langchain==0.3.26->-r requirements.txt (line 4)) (0.7.0)\n",
      "Requirement already satisfied: pydantic-core==2.33.2 in /home/aaron/.pyenv/versions/3.13.0/envs/aotw/lib/python3.13/site-packages (from pydantic<3.0.0,>=2.7.4->langchain==0.3.26->-r requirements.txt (line 4)) (2.33.2)\n",
      "Requirement already satisfied: typing-inspection>=0.4.0 in /home/aaron/.pyenv/versions/3.13.0/envs/aotw/lib/python3.13/site-packages (from pydantic<3.0.0,>=2.7.4->langchain==0.3.26->-r requirements.txt (line 4)) (0.4.1)\n",
      "Requirement already satisfied: greenlet>=1 in /home/aaron/.pyenv/versions/3.13.0/envs/aotw/lib/python3.13/site-packages (from SQLAlchemy<3,>=1.4->langchain==0.3.26->-r requirements.txt (line 4)) (3.2.3)\n",
      "Requirement already satisfied: regex>=2022.1.18 in /home/aaron/.pyenv/versions/3.13.0/envs/aotw/lib/python3.13/site-packages (from tiktoken<1,>=0.7->langchain-openai==0.3.25->-r requirements.txt (line 6)) (2024.11.6)\n",
      "Requirement already satisfied: setuptools in /home/aaron/.pyenv/versions/3.13.0/envs/aotw/lib/python3.13/site-packages (from torch>=1.11.0->sentence-transformers->-r requirements.txt (line 14)) (80.9.0)\n",
      "Requirement already satisfied: sympy>=1.13.3 in /home/aaron/.pyenv/versions/3.13.0/envs/aotw/lib/python3.13/site-packages (from torch>=1.11.0->sentence-transformers->-r requirements.txt (line 14)) (1.14.0)\n",
      "Requirement already satisfied: networkx in /home/aaron/.pyenv/versions/3.13.0/envs/aotw/lib/python3.13/site-packages (from torch>=1.11.0->sentence-transformers->-r requirements.txt (line 14)) (3.5)\n",
      "Requirement already satisfied: jinja2 in /home/aaron/.pyenv/versions/3.13.0/envs/aotw/lib/python3.13/site-packages (from torch>=1.11.0->sentence-transformers->-r requirements.txt (line 14)) (3.1.6)\n",
      "Requirement already satisfied: nvidia-cuda-nvrtc-cu12==12.6.77 in /home/aaron/.pyenv/versions/3.13.0/envs/aotw/lib/python3.13/site-packages (from torch>=1.11.0->sentence-transformers->-r requirements.txt (line 14)) (12.6.77)\n",
      "Requirement already satisfied: nvidia-cuda-runtime-cu12==12.6.77 in /home/aaron/.pyenv/versions/3.13.0/envs/aotw/lib/python3.13/site-packages (from torch>=1.11.0->sentence-transformers->-r requirements.txt (line 14)) (12.6.77)\n",
      "Requirement already satisfied: nvidia-cuda-cupti-cu12==12.6.80 in /home/aaron/.pyenv/versions/3.13.0/envs/aotw/lib/python3.13/site-packages (from torch>=1.11.0->sentence-transformers->-r requirements.txt (line 14)) (12.6.80)\n",
      "Requirement already satisfied: nvidia-cudnn-cu12==9.5.1.17 in /home/aaron/.pyenv/versions/3.13.0/envs/aotw/lib/python3.13/site-packages (from torch>=1.11.0->sentence-transformers->-r requirements.txt (line 14)) (9.5.1.17)\n",
      "Requirement already satisfied: nvidia-cublas-cu12==12.6.4.1 in /home/aaron/.pyenv/versions/3.13.0/envs/aotw/lib/python3.13/site-packages (from torch>=1.11.0->sentence-transformers->-r requirements.txt (line 14)) (12.6.4.1)\n",
      "Requirement already satisfied: nvidia-cufft-cu12==11.3.0.4 in /home/aaron/.pyenv/versions/3.13.0/envs/aotw/lib/python3.13/site-packages (from torch>=1.11.0->sentence-transformers->-r requirements.txt (line 14)) (11.3.0.4)\n",
      "Requirement already satisfied: nvidia-curand-cu12==10.3.7.77 in /home/aaron/.pyenv/versions/3.13.0/envs/aotw/lib/python3.13/site-packages (from torch>=1.11.0->sentence-transformers->-r requirements.txt (line 14)) (10.3.7.77)\n",
      "Requirement already satisfied: nvidia-cusolver-cu12==11.7.1.2 in /home/aaron/.pyenv/versions/3.13.0/envs/aotw/lib/python3.13/site-packages (from torch>=1.11.0->sentence-transformers->-r requirements.txt (line 14)) (11.7.1.2)\n",
      "Requirement already satisfied: nvidia-cusparse-cu12==12.5.4.2 in /home/aaron/.pyenv/versions/3.13.0/envs/aotw/lib/python3.13/site-packages (from torch>=1.11.0->sentence-transformers->-r requirements.txt (line 14)) (12.5.4.2)\n",
      "Requirement already satisfied: nvidia-cusparselt-cu12==0.6.3 in /home/aaron/.pyenv/versions/3.13.0/envs/aotw/lib/python3.13/site-packages (from torch>=1.11.0->sentence-transformers->-r requirements.txt (line 14)) (0.6.3)\n",
      "Requirement already satisfied: nvidia-nccl-cu12==2.26.2 in /home/aaron/.pyenv/versions/3.13.0/envs/aotw/lib/python3.13/site-packages (from torch>=1.11.0->sentence-transformers->-r requirements.txt (line 14)) (2.26.2)\n",
      "Requirement already satisfied: nvidia-nvtx-cu12==12.6.77 in /home/aaron/.pyenv/versions/3.13.0/envs/aotw/lib/python3.13/site-packages (from torch>=1.11.0->sentence-transformers->-r requirements.txt (line 14)) (12.6.77)\n",
      "Requirement already satisfied: nvidia-nvjitlink-cu12==12.6.85 in /home/aaron/.pyenv/versions/3.13.0/envs/aotw/lib/python3.13/site-packages (from torch>=1.11.0->sentence-transformers->-r requirements.txt (line 14)) (12.6.85)\n",
      "Requirement already satisfied: nvidia-cufile-cu12==1.11.1.6 in /home/aaron/.pyenv/versions/3.13.0/envs/aotw/lib/python3.13/site-packages (from torch>=1.11.0->sentence-transformers->-r requirements.txt (line 14)) (1.11.1.6)\n",
      "Requirement already satisfied: triton==3.3.1 in /home/aaron/.pyenv/versions/3.13.0/envs/aotw/lib/python3.13/site-packages (from torch>=1.11.0->sentence-transformers->-r requirements.txt (line 14)) (3.3.1)\n",
      "Requirement already satisfied: safetensors>=0.4.3 in /home/aaron/.pyenv/versions/3.13.0/envs/aotw/lib/python3.13/site-packages (from transformers<5.0.0,>=4.41.0->sentence-transformers->-r requirements.txt (line 14)) (0.5.3)\n",
      "Requirement already satisfied: joblib>=1.2.0 in /home/aaron/.pyenv/versions/3.13.0/envs/aotw/lib/python3.13/site-packages (from scikit-learn->sentence-transformers->-r requirements.txt (line 14)) (1.5.1)\n",
      "Requirement already satisfied: threadpoolctl>=3.1.0 in /home/aaron/.pyenv/versions/3.13.0/envs/aotw/lib/python3.13/site-packages (from scikit-learn->sentence-transformers->-r requirements.txt (line 14)) (3.6.0)\n",
      "Requirement already satisfied: executing>=1.2.0 in /home/aaron/.pyenv/versions/3.13.0/envs/aotw/lib/python3.13/site-packages (from stack_data->ipython->-r requirements.txt (line 18)) (2.2.0)\n",
      "Requirement already satisfied: asttokens>=2.1.0 in /home/aaron/.pyenv/versions/3.13.0/envs/aotw/lib/python3.13/site-packages (from stack_data->ipython->-r requirements.txt (line 18)) (3.0.0)\n",
      "Requirement already satisfied: pure-eval in /home/aaron/.pyenv/versions/3.13.0/envs/aotw/lib/python3.13/site-packages (from stack_data->ipython->-r requirements.txt (line 18)) (0.2.3)\n",
      "Requirement already satisfied: pyproject_hooks in /home/aaron/.pyenv/versions/3.13.0/envs/aotw/lib/python3.13/site-packages (from build>=1.0.3->chromadb>=1.0.9->langchain-chroma==0.2.4->-r requirements.txt (line 8)) (1.2.0)\n",
      "Requirement already satisfied: jsonschema-specifications>=2023.03.6 in /home/aaron/.pyenv/versions/3.13.0/envs/aotw/lib/python3.13/site-packages (from jsonschema>=4.19.0->chromadb>=1.0.9->langchain-chroma==0.2.4->-r requirements.txt (line 8)) (2025.4.1)\n",
      "Requirement already satisfied: referencing>=0.28.4 in /home/aaron/.pyenv/versions/3.13.0/envs/aotw/lib/python3.13/site-packages (from jsonschema>=4.19.0->chromadb>=1.0.9->langchain-chroma==0.2.4->-r requirements.txt (line 8)) (0.36.2)\n",
      "Requirement already satisfied: rpds-py>=0.7.1 in /home/aaron/.pyenv/versions/3.13.0/envs/aotw/lib/python3.13/site-packages (from jsonschema>=4.19.0->chromadb>=1.0.9->langchain-chroma==0.2.4->-r requirements.txt (line 8)) (0.25.1)\n",
      "Requirement already satisfied: six>=1.9.0 in /home/aaron/.pyenv/versions/3.13.0/envs/aotw/lib/python3.13/site-packages (from kubernetes>=28.1.0->chromadb>=1.0.9->langchain-chroma==0.2.4->-r requirements.txt (line 8)) (1.17.0)\n",
      "Requirement already satisfied: python-dateutil>=2.5.3 in /home/aaron/.pyenv/versions/3.13.0/envs/aotw/lib/python3.13/site-packages (from kubernetes>=28.1.0->chromadb>=1.0.9->langchain-chroma==0.2.4->-r requirements.txt (line 8)) (2.9.0.post0)\n",
      "Requirement already satisfied: websocket-client!=0.40.0,!=0.41.*,!=0.42.*,>=0.32.0 in /home/aaron/.pyenv/versions/3.13.0/envs/aotw/lib/python3.13/site-packages (from kubernetes>=28.1.0->chromadb>=1.0.9->langchain-chroma==0.2.4->-r requirements.txt (line 8)) (1.8.0)\n",
      "Requirement already satisfied: requests-oauthlib in /home/aaron/.pyenv/versions/3.13.0/envs/aotw/lib/python3.13/site-packages (from kubernetes>=28.1.0->chromadb>=1.0.9->langchain-chroma==0.2.4->-r requirements.txt (line 8)) (2.0.0)\n",
      "Requirement already satisfied: oauthlib>=3.2.2 in /home/aaron/.pyenv/versions/3.13.0/envs/aotw/lib/python3.13/site-packages (from kubernetes>=28.1.0->chromadb>=1.0.9->langchain-chroma==0.2.4->-r requirements.txt (line 8)) (3.3.1)\n",
      "Requirement already satisfied: durationpy>=0.7 in /home/aaron/.pyenv/versions/3.13.0/envs/aotw/lib/python3.13/site-packages (from kubernetes>=28.1.0->chromadb>=1.0.9->langchain-chroma==0.2.4->-r requirements.txt (line 8)) (0.10)\n",
      "Requirement already satisfied: coloredlogs in /home/aaron/.pyenv/versions/3.13.0/envs/aotw/lib/python3.13/site-packages (from onnxruntime>=1.14.1->chromadb>=1.0.9->langchain-chroma==0.2.4->-r requirements.txt (line 8)) (15.0.1)\n",
      "Requirement already satisfied: flatbuffers in /home/aaron/.pyenv/versions/3.13.0/envs/aotw/lib/python3.13/site-packages (from onnxruntime>=1.14.1->chromadb>=1.0.9->langchain-chroma==0.2.4->-r requirements.txt (line 8)) (25.2.10)\n",
      "Requirement already satisfied: importlib-metadata<8.8.0,>=6.0 in /home/aaron/.pyenv/versions/3.13.0/envs/aotw/lib/python3.13/site-packages (from opentelemetry-api>=1.2.0->chromadb>=1.0.9->langchain-chroma==0.2.4->-r requirements.txt (line 8)) (8.7.0)\n",
      "Requirement already satisfied: opentelemetry-exporter-otlp-proto-common==1.34.1 in /home/aaron/.pyenv/versions/3.13.0/envs/aotw/lib/python3.13/site-packages (from opentelemetry-exporter-otlp-proto-grpc>=1.2.0->chromadb>=1.0.9->langchain-chroma==0.2.4->-r requirements.txt (line 8)) (1.34.1)\n",
      "Requirement already satisfied: opentelemetry-proto==1.34.1 in /home/aaron/.pyenv/versions/3.13.0/envs/aotw/lib/python3.13/site-packages (from opentelemetry-exporter-otlp-proto-grpc>=1.2.0->chromadb>=1.0.9->langchain-chroma==0.2.4->-r requirements.txt (line 8)) (1.34.1)\n",
      "Requirement already satisfied: opentelemetry-semantic-conventions==0.55b1 in /home/aaron/.pyenv/versions/3.13.0/envs/aotw/lib/python3.13/site-packages (from opentelemetry-sdk>=1.2.0->chromadb>=1.0.9->langchain-chroma==0.2.4->-r requirements.txt (line 8)) (0.55b1)\n",
      "Requirement already satisfied: backoff>=1.10.0 in /home/aaron/.pyenv/versions/3.13.0/envs/aotw/lib/python3.13/site-packages (from posthog>=2.4.0->chromadb>=1.0.9->langchain-chroma==0.2.4->-r requirements.txt (line 8)) (2.2.1)\n",
      "Requirement already satisfied: pyasn1<0.7.0,>=0.6.1 in /home/aaron/.pyenv/versions/3.13.0/envs/aotw/lib/python3.13/site-packages (from pyasn1-modules>=0.2.1->google-auth!=2.24.0,!=2.25.0,<3.0.0,>=1.32.0->google-api-python-client->-r requirements.txt (line 13)) (0.6.1)\n",
      "Requirement already satisfied: markdown-it-py>=2.2.0 in /home/aaron/.pyenv/versions/3.13.0/envs/aotw/lib/python3.13/site-packages (from rich>=10.11.0->chromadb>=1.0.9->langchain-chroma==0.2.4->-r requirements.txt (line 8)) (3.0.0)\n",
      "Requirement already satisfied: mpmath<1.4,>=1.1.0 in /home/aaron/.pyenv/versions/3.13.0/envs/aotw/lib/python3.13/site-packages (from sympy>=1.13.3->torch>=1.11.0->sentence-transformers->-r requirements.txt (line 14)) (1.3.0)\n",
      "Requirement already satisfied: click>=8.0.0 in /home/aaron/.pyenv/versions/3.13.0/envs/aotw/lib/python3.13/site-packages (from typer>=0.9.0->chromadb>=1.0.9->langchain-chroma==0.2.4->-r requirements.txt (line 8)) (8.2.1)\n",
      "Requirement already satisfied: shellingham>=1.3.0 in /home/aaron/.pyenv/versions/3.13.0/envs/aotw/lib/python3.13/site-packages (from typer>=0.9.0->chromadb>=1.0.9->langchain-chroma==0.2.4->-r requirements.txt (line 8)) (1.5.4)\n",
      "Requirement already satisfied: mypy-extensions>=0.3.0 in /home/aaron/.pyenv/versions/3.13.0/envs/aotw/lib/python3.13/site-packages (from typing-inspect<1,>=0.4.0->dataclasses-json<0.7,>=0.5.7->langchain-community==0.3.26->-r requirements.txt (line 7)) (1.1.0)\n",
      "Requirement already satisfied: httptools>=0.6.3 in /home/aaron/.pyenv/versions/3.13.0/envs/aotw/lib/python3.13/site-packages (from uvicorn[standard]>=0.18.3->chromadb>=1.0.9->langchain-chroma==0.2.4->-r requirements.txt (line 8)) (0.6.4)\n",
      "Requirement already satisfied: uvloop>=0.15.1 in /home/aaron/.pyenv/versions/3.13.0/envs/aotw/lib/python3.13/site-packages (from uvicorn[standard]>=0.18.3->chromadb>=1.0.9->langchain-chroma==0.2.4->-r requirements.txt (line 8)) (0.21.0)\n",
      "Requirement already satisfied: watchfiles>=0.13 in /home/aaron/.pyenv/versions/3.13.0/envs/aotw/lib/python3.13/site-packages (from uvicorn[standard]>=0.18.3->chromadb>=1.0.9->langchain-chroma==0.2.4->-r requirements.txt (line 8)) (1.1.0)\n",
      "Requirement already satisfied: websockets>=10.4 in /home/aaron/.pyenv/versions/3.13.0/envs/aotw/lib/python3.13/site-packages (from uvicorn[standard]>=0.18.3->chromadb>=1.0.9->langchain-chroma==0.2.4->-r requirements.txt (line 8)) (15.0.1)\n",
      "Requirement already satisfied: MarkupSafe>=2.0 in /home/aaron/.pyenv/versions/3.13.0/envs/aotw/lib/python3.13/site-packages (from jinja2->torch>=1.11.0->sentence-transformers->-r requirements.txt (line 14)) (3.0.2)\n",
      "Requirement already satisfied: zipp>=3.20 in /home/aaron/.pyenv/versions/3.13.0/envs/aotw/lib/python3.13/site-packages (from importlib-metadata<8.8.0,>=6.0->opentelemetry-api>=1.2.0->chromadb>=1.0.9->langchain-chroma==0.2.4->-r requirements.txt (line 8)) (3.23.0)\n",
      "Requirement already satisfied: mdurl~=0.1 in /home/aaron/.pyenv/versions/3.13.0/envs/aotw/lib/python3.13/site-packages (from markdown-it-py>=2.2.0->rich>=10.11.0->chromadb>=1.0.9->langchain-chroma==0.2.4->-r requirements.txt (line 8)) (0.1.2)\n",
      "Requirement already satisfied: humanfriendly>=9.1 in /home/aaron/.pyenv/versions/3.13.0/envs/aotw/lib/python3.13/site-packages (from coloredlogs->onnxruntime>=1.14.1->chromadb>=1.0.9->langchain-chroma==0.2.4->-r requirements.txt (line 8)) (10.0)\n",
      "\n",
      "\u001b[1m[\u001b[0m\u001b[34;49mnotice\u001b[0m\u001b[1;39;49m]\u001b[0m\u001b[39;49m A new release of pip is available: \u001b[0m\u001b[31;49m24.2\u001b[0m\u001b[39;49m -> \u001b[0m\u001b[32;49m25.1.1\u001b[0m\n",
      "\u001b[1m[\u001b[0m\u001b[34;49mnotice\u001b[0m\u001b[1;39;49m]\u001b[0m\u001b[39;49m To update, run: \u001b[0m\u001b[32;49mpip install --upgrade pip\u001b[0m\n"
     ]
    }
   ],
   "source": [
    "! pip install -r requirements.txt"
   ]
  },
  {
   "cell_type": "markdown",
   "id": "503d3407",
   "metadata": {},
   "source": [
    "## API Keys"
   ]
  },
  {
   "cell_type": "code",
   "execution_count": 38,
   "id": "6599a629",
   "metadata": {},
   "outputs": [],
   "source": [
    "# set your API keys in the .env file..\n",
    "import os\n",
    "from dotenv import load_dotenv\n",
    "\n",
    "load_dotenv()\n",
    "\n",
    "assert os.getenv(\"OPENAI_API_KEY\"), \"OPENAI_API_KEY is not set\"\n",
    "assert os.getenv(\"LANGCHAIN_API_KEY\"), \"LANGCHAIN_API_KEY is not set\"\n"
   ]
  },
  {
   "cell_type": "markdown",
   "id": "5afc5554",
   "metadata": {},
   "source": [
    "## Tracability"
   ]
  },
  {
   "cell_type": "code",
   "execution_count": 39,
   "id": "c8b6ca38",
   "metadata": {},
   "outputs": [],
   "source": [
    "from langchain.callbacks.tracers.langchain import LangChainTracer\n",
    "\n",
    "tracer = LangChainTracer()"
   ]
  },
  {
   "cell_type": "markdown",
   "id": "9ade40bf",
   "metadata": {},
   "source": [
    "## System Prompts"
   ]
  },
  {
   "cell_type": "code",
   "execution_count": 40,
   "id": "cf61793e",
   "metadata": {},
   "outputs": [],
   "source": [
    "from langchain_core.messages import SystemMessage\n",
    "\n",
    "t=\"\"\"Return a comma separated list of exactly 5 valid YouTube video IDs \n",
    "that are most relevant to the user's query.\n",
    "For example: 'id1,id2,id3,id4,id5'\"\"\"\n",
    "\n",
    "sp1=SystemMessage(content=t)\n",
    "\n",
    "sp2=SystemMessage(content=\"Use the context below to answer the question.\")"
   ]
  },
  {
   "cell_type": "markdown",
   "id": "eafdf69b",
   "metadata": {},
   "source": [
    "## LLM"
   ]
  },
  {
   "cell_type": "code",
   "execution_count": 41,
   "id": "a134fff2",
   "metadata": {},
   "outputs": [],
   "source": [
    "from langchain_openai import ChatOpenAI\n",
    "from langchain_core.prompts import ChatPromptTemplate\n",
    "from langchain_core.messages import HumanMessage\n",
    "\n",
    "# create the LLM\n",
    "llm = ChatOpenAI(\n",
    "    model=\"gpt-4o\", \n",
    "    temperature=0,\n",
    "    callbacks=[tracer]\n",
    "    )\n",
    "\n",
    "prompt_videos = ChatPromptTemplate.from_messages([\n",
    "    (\"system\", \"\"\"Return a comma separated list of exactly 5 valid YouTube video IDs that are most \n",
    "                  relevant to the user's query. \n",
    "                  For example: 'id1,id2,id3,id4,id5'\"\"\"),\n",
    "    (\"human\", \"{query}\")\n",
    "])\n",
    "\n",
    "prompt_answer = ChatPromptTemplate.from_messages([\n",
    "    (\"system\", \"Use the context below to answer the question.\"),\n",
    "    (\"human\", \"{query}\\n\\nContext:\\n{context}\")\n",
    "])\n"
   ]
  },
  {
   "cell_type": "markdown",
   "id": "86e72869",
   "metadata": {},
   "source": [
    "## Knowledgebase"
   ]
  },
  {
   "cell_type": "code",
   "execution_count": 42,
   "id": "13401d5a",
   "metadata": {},
   "outputs": [],
   "source": [
    "# set up any Embeddings/Vector DB's here\n",
    "from langchain_openai import OpenAIEmbeddings\n",
    "\n",
    "embedding_model = OpenAIEmbeddings()\n",
    "\n",
    "vectorstore = None  # Global FAISS store"
   ]
  },
  {
   "cell_type": "markdown",
   "id": "1376eb6f",
   "metadata": {},
   "source": [
    "## Tools"
   ]
  },
  {
   "cell_type": "code",
   "execution_count": 43,
   "id": "9f8f397b",
   "metadata": {},
   "outputs": [],
   "source": [
    "from langchain_community.vectorstores import FAISS\n",
    "from langchain_text_splitters import RecursiveCharacterTextSplitter\n",
    "\n",
    "def step_get_video_ids(state):\n",
    "    query = state[\"query\"]\n",
    "    video_ids=[]\n",
    "    messages = prompt_videos.invoke({\"query\": query})\n",
    "    response = llm.invoke(messages).content\n",
    "    video_ids =response.split(',')\n",
    "    print(f\"Retrieved and filtered Video IDs: {video_ids}\")\n",
    "    return {\"query\": query, \"video_ids\": video_ids}\n",
    "\n",
    "def step_get_transcripts(state):\n",
    "    video_ids = state[\"video_ids\"]\n",
    "    docs = []\n",
    "    for vid in video_ids:\n",
    "        try:\n",
    "            parts = YouTubeTranscriptApi.get_transcript(vid)\n",
    "            text = \" \".join(p[\"text\"] for p in parts)\n",
    "            docs.append(Document(page_content=text, metadata={\"video_id\": vid}))\n",
    "        except Exception:\n",
    "            continue\n",
    "    if not docs:\n",
    "        print(\"Warning: No transcripts were retrieved for the given video IDs.\")\n",
    "    return {\"query\": state[\"query\"], \"documents\": docs}\n",
    "\n",
    "def step_embed_docs(state):\n",
    "    docs = state[\"documents\"]\n",
    "    if docs:\n",
    "        splitter = RecursiveCharacterTextSplitter(chunk_size=500, chunk_overlap=50)\n",
    "        chunks = splitter.split_documents(docs)\n",
    "        global vectorstore\n",
    "        vectorstore = FAISS.from_documents(chunks, embedding_model)\n",
    "    return {\"query\": state[\"query\"]}\n",
    "\n",
    "def step_rag_answer(state):\n",
    "    context=''\n",
    "    if vectorstore:\n",
    "        retriever = vectorstore.as_retriever(search_kwargs={\"k\": 3})\n",
    "        results = retriever.invoke(state[\"query\"])\n",
    "        context = \"\\n\\n\".join(doc.page_content for doc in results)\n",
    "    messages = prompt_answer.invoke({\"query\": state[\"query\"], \"context\": context})\n",
    "    response = llm.invoke(messages).content\n",
    "    return {\"answer\": response}"
   ]
  },
  {
   "cell_type": "markdown",
   "id": "d0bae372",
   "metadata": {},
   "source": [
    "## Orchestrator"
   ]
  },
  {
   "cell_type": "code",
   "execution_count": 44,
   "id": "23eb5e63",
   "metadata": {},
   "outputs": [],
   "source": [
    "# set up LangChain/LangGraph here\n",
    "from typing import TypedDict, Annotated, List\n",
    "from langchain_core.documents import Document\n",
    "from langchain_core.runnables import RunnableLambda\n",
    "from langgraph.graph import StateGraph\n",
    "import operator\n",
    "\n",
    "class State(TypedDict):\n",
    "    query: str\n",
    "    video_ids: List[str]\n",
    "    documents: List[Document]\n",
    "    answer: str\n",
    "\n",
    "graph = StateGraph(State)\n",
    "graph.add_node(\"get_video_ids\", RunnableLambda(step_get_video_ids))\n",
    "graph.add_node(\"get_transcripts\", RunnableLambda(step_get_transcripts))\n",
    "graph.add_node(\"embed_docs\", RunnableLambda(step_embed_docs))\n",
    "graph.add_node(\"rag_answer\", RunnableLambda(step_rag_answer))\n",
    "\n",
    "graph.set_entry_point(\"get_video_ids\")\n",
    "graph.add_edge(\"get_video_ids\", \"get_transcripts\")\n",
    "graph.add_edge(\"get_transcripts\", \"embed_docs\")\n",
    "graph.add_edge(\"embed_docs\", \"rag_answer\")\n",
    "graph.set_finish_point(\"rag_answer\")\n",
    "\n",
    "app = graph.compile()\n"
   ]
  },
  {
   "cell_type": "markdown",
   "id": "87f3b7cd",
   "metadata": {},
   "source": [
    "## The Graph"
   ]
  },
  {
   "cell_type": "code",
   "execution_count": 45,
   "id": "9d036355",
   "metadata": {},
   "outputs": [
    {
     "data": {
      "image/png": "[encoded data removed]",
      "text/plain": [
       "<IPython.core.display.Image object>"
      ]
     },
     "metadata": {},
     "output_type": "display_data"
    }
   ],
   "source": [
    "from IPython.display import Image, display\n",
    "\n",
    "display(Image(app.get_graph().draw_mermaid_png()))"
   ]
  },
  {
   "cell_type": "markdown",
   "id": "4045f952",
   "metadata": {},
   "source": [
    "## Kick off the Query"
   ]
  },
  {
   "cell_type": "code",
   "execution_count": 46,
   "id": "028554be",
   "metadata": {},
   "outputs": [
    {
     "name": "stdout",
     "output_type": "stream",
     "text": [
      "Retrieved and filtered Video IDs: ['d1YH1p0bS0Q', '2Fz3zFqLc3E', '1cJPuG1gE0w', '3Z6wH0Z3i0A', '4y3F0Z2bQ1M']\n",
      "Warning: No transcripts were retrieved for the given video IDs.\n",
      "📥 Final RAG Answer:\n",
      "\n",
      "Quantum effects in biology refer to the influence of quantum mechanics on biological processes. While classical physics typically explains most biological phenomena, certain processes at the molecular level may involve quantum effects. Some areas where quantum biology is being explored include:\n",
      "\n",
      "1. **Photosynthesis**: Quantum coherence might play a role in the efficient transfer of energy within the photosynthetic complexes of plants and certain bacteria, allowing them to convert sunlight into chemical energy with high efficiency.\n",
      "\n",
      "2. **Enzyme Catalysis**: Quantum tunneling could be a factor in how enzymes facilitate chemical reactions. This involves particles passing through energy barriers rather than going over them, potentially speeding up reactions.\n",
      "\n",
      "3. **Olfaction**: The theory of quantum tunneling has been proposed to explain how the sense of smell works, suggesting that the detection of odor molecules might involve quantum processes.\n",
      "\n",
      "4. **Magnetoreception**: Some animals, like birds, are thought to navigate using the Earth's magnetic field, possibly through a quantum process involving radical pairs, which are molecules with unpaired electrons that are sensitive to magnetic fields.\n",
      "\n",
      "5. **DNA Mutation**: Quantum mechanics might play a role in spontaneous mutations in DNA, where quantum tunneling could cause protons to move between base pairs, leading to genetic mutations.\n",
      "\n",
      "These examples illustrate how quantum mechanics might provide insights into complex biological systems, although the field is still in its early stages and much research is ongoing to fully understand these phenomena.\n"
     ]
    }
   ],
   "source": [
    "query = \"What are quantum effects in biology?\"\n",
    "result = app.invoke({\"query\": query})\n",
    "print(\"📥 Final RAG Answer:\\n\")\n",
    "print(result[\"answer\"])"
   ]
  }
 ],
 "metadata": {
  "kernelspec": {
   "display_name": "aotw",
   "language": "python",
   "name": "python3"
  },
  "language_info": {
   "codemirror_mode": {
    "name": "ipython",
    "version": 3
   },
   "file_extension": ".py",
   "mimetype": "text/x-python",
   "name": "python",
   "nbconvert_exporter": "python",
   "pygments_lexer": "ipython3",
   "version": "3.13.0"
  }
 },
 "nbformat": 4,
 "nbformat_minor": 5
}
