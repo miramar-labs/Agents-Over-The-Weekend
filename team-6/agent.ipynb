{
 "cells": [
  {
   "cell_type": "code",
   "execution_count": 3,
   "id": "18e4ed70",
   "metadata": {},
   "outputs": [
    {
     "name": "stdout",
     "output_type": "stream",
     "text": [
      "Requirement already satisfied: requests in /home/aaron/.pyenv/versions/aotw/lib/python3.13/site-packages (from -r requirements.txt (line 1)) (2.32.4)\n",
      "Requirement already satisfied: python-dotenv in /home/aaron/.pyenv/versions/aotw/lib/python3.13/site-packages (from -r requirements.txt (line 2)) (1.1.0)\n",
      "Requirement already satisfied: openai in /home/aaron/.pyenv/versions/aotw/lib/python3.13/site-packages (from -r requirements.txt (line 3)) (1.90.0)\n",
      "Collecting langchain_google_genai (from -r requirements.txt (line 4))\n",
      "  Downloading langchain_google_genai-2.1.5-py3-none-any.whl.metadata (5.2 kB)\n",
      "Requirement already satisfied: langsmith in /home/aaron/.pyenv/versions/aotw/lib/python3.13/site-packages (from -r requirements.txt (line 5)) (0.4.1)\n",
      "Requirement already satisfied: langchain in /home/aaron/.pyenv/versions/aotw/lib/python3.13/site-packages (from -r requirements.txt (line 6)) (0.3.26)\n",
      "Requirement already satisfied: langchain-openai in /home/aaron/.pyenv/versions/aotw/lib/python3.13/site-packages (from -r requirements.txt (line 7)) (0.3.24)\n",
      "Requirement already satisfied: langchain-community in /home/aaron/.pyenv/versions/aotw/lib/python3.13/site-packages (from -r requirements.txt (line 8)) (0.3.26)\n",
      "Requirement already satisfied: langchain-core in /home/aaron/.pyenv/versions/aotw/lib/python3.13/site-packages (from -r requirements.txt (line 9)) (0.3.66)\n",
      "Requirement already satisfied: langchain-text-splitters in /home/aaron/.pyenv/versions/aotw/lib/python3.13/site-packages (from -r requirements.txt (line 10)) (0.3.8)\n",
      "Requirement already satisfied: charset_normalizer<4,>=2 in /home/aaron/.pyenv/versions/aotw/lib/python3.13/site-packages (from requests->-r requirements.txt (line 1)) (3.4.2)\n",
      "Requirement already satisfied: idna<4,>=2.5 in /home/aaron/.pyenv/versions/aotw/lib/python3.13/site-packages (from requests->-r requirements.txt (line 1)) (3.10)\n",
      "Requirement already satisfied: urllib3<3,>=1.21.1 in /home/aaron/.pyenv/versions/aotw/lib/python3.13/site-packages (from requests->-r requirements.txt (line 1)) (2.5.0)\n",
      "Requirement already satisfied: certifi>=2017.4.17 in /home/aaron/.pyenv/versions/aotw/lib/python3.13/site-packages (from requests->-r requirements.txt (line 1)) (2025.6.15)\n",
      "Requirement already satisfied: anyio<5,>=3.5.0 in /home/aaron/.pyenv/versions/aotw/lib/python3.13/site-packages (from openai->-r requirements.txt (line 3)) (4.9.0)\n",
      "Requirement already satisfied: distro<2,>=1.7.0 in /home/aaron/.pyenv/versions/aotw/lib/python3.13/site-packages (from openai->-r requirements.txt (line 3)) (1.9.0)\n",
      "Requirement already satisfied: httpx<1,>=0.23.0 in /home/aaron/.pyenv/versions/aotw/lib/python3.13/site-packages (from openai->-r requirements.txt (line 3)) (0.28.1)\n",
      "Requirement already satisfied: jiter<1,>=0.4.0 in /home/aaron/.pyenv/versions/aotw/lib/python3.13/site-packages (from openai->-r requirements.txt (line 3)) (0.10.0)\n",
      "Requirement already satisfied: pydantic<3,>=1.9.0 in /home/aaron/.pyenv/versions/aotw/lib/python3.13/site-packages (from openai->-r requirements.txt (line 3)) (2.11.7)\n",
      "Requirement already satisfied: sniffio in /home/aaron/.pyenv/versions/aotw/lib/python3.13/site-packages (from openai->-r requirements.txt (line 3)) (1.3.1)\n",
      "Requirement already satisfied: tqdm>4 in /home/aaron/.pyenv/versions/aotw/lib/python3.13/site-packages (from openai->-r requirements.txt (line 3)) (4.67.1)\n",
      "Requirement already satisfied: typing-extensions<5,>=4.11 in /home/aaron/.pyenv/versions/aotw/lib/python3.13/site-packages (from openai->-r requirements.txt (line 3)) (4.14.0)\n",
      "Requirement already satisfied: httpcore==1.* in /home/aaron/.pyenv/versions/aotw/lib/python3.13/site-packages (from httpx<1,>=0.23.0->openai->-r requirements.txt (line 3)) (1.0.9)\n",
      "Requirement already satisfied: h11>=0.16 in /home/aaron/.pyenv/versions/aotw/lib/python3.13/site-packages (from httpcore==1.*->httpx<1,>=0.23.0->openai->-r requirements.txt (line 3)) (0.16.0)\n",
      "Requirement already satisfied: annotated-types>=0.6.0 in /home/aaron/.pyenv/versions/aotw/lib/python3.13/site-packages (from pydantic<3,>=1.9.0->openai->-r requirements.txt (line 3)) (0.7.0)\n",
      "Requirement already satisfied: pydantic-core==2.33.2 in /home/aaron/.pyenv/versions/aotw/lib/python3.13/site-packages (from pydantic<3,>=1.9.0->openai->-r requirements.txt (line 3)) (2.33.2)\n",
      "Requirement already satisfied: typing-inspection>=0.4.0 in /home/aaron/.pyenv/versions/aotw/lib/python3.13/site-packages (from pydantic<3,>=1.9.0->openai->-r requirements.txt (line 3)) (0.4.1)\n",
      "Collecting filetype<2.0.0,>=1.2.0 (from langchain_google_genai->-r requirements.txt (line 4))\n",
      "  Downloading filetype-1.2.0-py2.py3-none-any.whl.metadata (6.5 kB)\n",
      "Collecting google-ai-generativelanguage<0.7.0,>=0.6.18 (from langchain_google_genai->-r requirements.txt (line 4))\n",
      "  Downloading google_ai_generativelanguage-0.6.18-py3-none-any.whl.metadata (9.8 kB)\n",
      "Requirement already satisfied: tenacity!=8.4.0,<10.0.0,>=8.1.0 in /home/aaron/.pyenv/versions/aotw/lib/python3.13/site-packages (from langchain-core->-r requirements.txt (line 9)) (9.1.2)\n",
      "Requirement already satisfied: jsonpatch<2.0,>=1.33 in /home/aaron/.pyenv/versions/aotw/lib/python3.13/site-packages (from langchain-core->-r requirements.txt (line 9)) (1.33)\n",
      "Requirement already satisfied: PyYAML>=5.3 in /home/aaron/.pyenv/versions/aotw/lib/python3.13/site-packages (from langchain-core->-r requirements.txt (line 9)) (6.0.2)\n",
      "Requirement already satisfied: packaging<25,>=23.2 in /home/aaron/.pyenv/versions/aotw/lib/python3.13/site-packages (from langchain-core->-r requirements.txt (line 9)) (24.2)\n",
      "Collecting google-api-core!=2.0.*,!=2.1.*,!=2.10.*,!=2.2.*,!=2.3.*,!=2.4.*,!=2.5.*,!=2.6.*,!=2.7.*,!=2.8.*,!=2.9.*,<3.0.0,>=1.34.1 (from google-api-core[grpc]!=2.0.*,!=2.1.*,!=2.10.*,!=2.2.*,!=2.3.*,!=2.4.*,!=2.5.*,!=2.6.*,!=2.7.*,!=2.8.*,!=2.9.*,<3.0.0,>=1.34.1->google-ai-generativelanguage<0.7.0,>=0.6.18->langchain_google_genai->-r requirements.txt (line 4))\n",
      "  Downloading google_api_core-2.25.1-py3-none-any.whl.metadata (3.0 kB)\n",
      "Collecting google-auth!=2.24.0,!=2.25.0,<3.0.0,>=2.14.1 (from google-ai-generativelanguage<0.7.0,>=0.6.18->langchain_google_genai->-r requirements.txt (line 4))\n",
      "  Downloading google_auth-2.40.3-py2.py3-none-any.whl.metadata (6.2 kB)\n",
      "Collecting proto-plus<2.0.0,>=1.22.3 (from google-ai-generativelanguage<0.7.0,>=0.6.18->langchain_google_genai->-r requirements.txt (line 4))\n",
      "  Downloading proto_plus-1.26.1-py3-none-any.whl.metadata (2.2 kB)\n",
      "Requirement already satisfied: protobuf!=4.21.0,!=4.21.1,!=4.21.2,!=4.21.3,!=4.21.4,!=4.21.5,<7.0.0,>=3.20.2 in /home/aaron/.pyenv/versions/aotw/lib/python3.13/site-packages (from google-ai-generativelanguage<0.7.0,>=0.6.18->langchain_google_genai->-r requirements.txt (line 4)) (6.31.1)\n",
      "Collecting googleapis-common-protos<2.0.0,>=1.56.2 (from google-api-core!=2.0.*,!=2.1.*,!=2.10.*,!=2.2.*,!=2.3.*,!=2.4.*,!=2.5.*,!=2.6.*,!=2.7.*,!=2.8.*,!=2.9.*,<3.0.0,>=1.34.1->google-api-core[grpc]!=2.0.*,!=2.1.*,!=2.10.*,!=2.2.*,!=2.3.*,!=2.4.*,!=2.5.*,!=2.6.*,!=2.7.*,!=2.8.*,!=2.9.*,<3.0.0,>=1.34.1->google-ai-generativelanguage<0.7.0,>=0.6.18->langchain_google_genai->-r requirements.txt (line 4))\n",
      "  Downloading googleapis_common_protos-1.70.0-py3-none-any.whl.metadata (9.3 kB)\n",
      "Collecting grpcio<2.0.0,>=1.33.2 (from google-api-core[grpc]!=2.0.*,!=2.1.*,!=2.10.*,!=2.2.*,!=2.3.*,!=2.4.*,!=2.5.*,!=2.6.*,!=2.7.*,!=2.8.*,!=2.9.*,<3.0.0,>=1.34.1->google-ai-generativelanguage<0.7.0,>=0.6.18->langchain_google_genai->-r requirements.txt (line 4))\n",
      "  Downloading grpcio-1.73.0-cp313-cp313-manylinux_2_17_x86_64.manylinux2014_x86_64.whl.metadata (3.8 kB)\n",
      "Collecting grpcio-status<2.0.0,>=1.33.2 (from google-api-core[grpc]!=2.0.*,!=2.1.*,!=2.10.*,!=2.2.*,!=2.3.*,!=2.4.*,!=2.5.*,!=2.6.*,!=2.7.*,!=2.8.*,!=2.9.*,<3.0.0,>=1.34.1->google-ai-generativelanguage<0.7.0,>=0.6.18->langchain_google_genai->-r requirements.txt (line 4))\n",
      "  Downloading grpcio_status-1.73.0-py3-none-any.whl.metadata (1.1 kB)\n",
      "Collecting cachetools<6.0,>=2.0.0 (from google-auth!=2.24.0,!=2.25.0,<3.0.0,>=2.14.1->google-ai-generativelanguage<0.7.0,>=0.6.18->langchain_google_genai->-r requirements.txt (line 4))\n",
      "  Downloading cachetools-5.5.2-py3-none-any.whl.metadata (5.4 kB)\n",
      "Collecting pyasn1-modules>=0.2.1 (from google-auth!=2.24.0,!=2.25.0,<3.0.0,>=2.14.1->google-ai-generativelanguage<0.7.0,>=0.6.18->langchain_google_genai->-r requirements.txt (line 4))\n",
      "  Downloading pyasn1_modules-0.4.2-py3-none-any.whl.metadata (3.5 kB)\n",
      "Collecting rsa<5,>=3.1.4 (from google-auth!=2.24.0,!=2.25.0,<3.0.0,>=2.14.1->google-ai-generativelanguage<0.7.0,>=0.6.18->langchain_google_genai->-r requirements.txt (line 4))\n",
      "  Downloading rsa-4.9.1-py3-none-any.whl.metadata (5.6 kB)\n",
      "Requirement already satisfied: jsonpointer>=1.9 in /home/aaron/.pyenv/versions/aotw/lib/python3.13/site-packages (from jsonpatch<2.0,>=1.33->langchain-core->-r requirements.txt (line 9)) (3.0.0)\n",
      "Collecting pyasn1>=0.1.3 (from rsa<5,>=3.1.4->google-auth!=2.24.0,!=2.25.0,<3.0.0,>=2.14.1->google-ai-generativelanguage<0.7.0,>=0.6.18->langchain_google_genai->-r requirements.txt (line 4))\n",
      "  Downloading pyasn1-0.6.1-py3-none-any.whl.metadata (8.4 kB)\n",
      "Requirement already satisfied: orjson<4.0.0,>=3.9.14 in /home/aaron/.pyenv/versions/aotw/lib/python3.13/site-packages (from langsmith->-r requirements.txt (line 5)) (3.10.18)\n",
      "Requirement already satisfied: requests-toolbelt<2.0.0,>=1.0.0 in /home/aaron/.pyenv/versions/aotw/lib/python3.13/site-packages (from langsmith->-r requirements.txt (line 5)) (1.0.0)\n",
      "Requirement already satisfied: zstandard<0.24.0,>=0.23.0 in /home/aaron/.pyenv/versions/aotw/lib/python3.13/site-packages (from langsmith->-r requirements.txt (line 5)) (0.23.0)\n",
      "Requirement already satisfied: SQLAlchemy<3,>=1.4 in /home/aaron/.pyenv/versions/aotw/lib/python3.13/site-packages (from langchain->-r requirements.txt (line 6)) (2.0.41)\n",
      "Requirement already satisfied: greenlet>=1 in /home/aaron/.pyenv/versions/aotw/lib/python3.13/site-packages (from SQLAlchemy<3,>=1.4->langchain->-r requirements.txt (line 6)) (3.2.3)\n",
      "Requirement already satisfied: tiktoken<1,>=0.7 in /home/aaron/.pyenv/versions/aotw/lib/python3.13/site-packages (from langchain-openai->-r requirements.txt (line 7)) (0.9.0)\n",
      "Requirement already satisfied: regex>=2022.1.18 in /home/aaron/.pyenv/versions/aotw/lib/python3.13/site-packages (from tiktoken<1,>=0.7->langchain-openai->-r requirements.txt (line 7)) (2024.11.6)\n",
      "Requirement already satisfied: aiohttp<4.0.0,>=3.8.3 in /home/aaron/.pyenv/versions/aotw/lib/python3.13/site-packages (from langchain-community->-r requirements.txt (line 8)) (3.12.13)\n",
      "Requirement already satisfied: dataclasses-json<0.7,>=0.5.7 in /home/aaron/.pyenv/versions/aotw/lib/python3.13/site-packages (from langchain-community->-r requirements.txt (line 8)) (0.6.7)\n",
      "Requirement already satisfied: pydantic-settings<3.0.0,>=2.4.0 in /home/aaron/.pyenv/versions/aotw/lib/python3.13/site-packages (from langchain-community->-r requirements.txt (line 8)) (2.10.0)\n",
      "Requirement already satisfied: httpx-sse<1.0.0,>=0.4.0 in /home/aaron/.pyenv/versions/aotw/lib/python3.13/site-packages (from langchain-community->-r requirements.txt (line 8)) (0.4.0)\n",
      "Requirement already satisfied: numpy>=2.1.0 in /home/aaron/.pyenv/versions/aotw/lib/python3.13/site-packages (from langchain-community->-r requirements.txt (line 8)) (2.3.1)\n",
      "Requirement already satisfied: aiohappyeyeballs>=2.5.0 in /home/aaron/.pyenv/versions/aotw/lib/python3.13/site-packages (from aiohttp<4.0.0,>=3.8.3->langchain-community->-r requirements.txt (line 8)) (2.6.1)\n",
      "Requirement already satisfied: aiosignal>=1.1.2 in /home/aaron/.pyenv/versions/aotw/lib/python3.13/site-packages (from aiohttp<4.0.0,>=3.8.3->langchain-community->-r requirements.txt (line 8)) (1.3.2)\n",
      "Requirement already satisfied: attrs>=17.3.0 in /home/aaron/.pyenv/versions/aotw/lib/python3.13/site-packages (from aiohttp<4.0.0,>=3.8.3->langchain-community->-r requirements.txt (line 8)) (25.3.0)\n",
      "Requirement already satisfied: frozenlist>=1.1.1 in /home/aaron/.pyenv/versions/aotw/lib/python3.13/site-packages (from aiohttp<4.0.0,>=3.8.3->langchain-community->-r requirements.txt (line 8)) (1.7.0)\n",
      "Requirement already satisfied: multidict<7.0,>=4.5 in /home/aaron/.pyenv/versions/aotw/lib/python3.13/site-packages (from aiohttp<4.0.0,>=3.8.3->langchain-community->-r requirements.txt (line 8)) (6.5.0)\n",
      "Requirement already satisfied: propcache>=0.2.0 in /home/aaron/.pyenv/versions/aotw/lib/python3.13/site-packages (from aiohttp<4.0.0,>=3.8.3->langchain-community->-r requirements.txt (line 8)) (0.3.2)\n",
      "Requirement already satisfied: yarl<2.0,>=1.17.0 in /home/aaron/.pyenv/versions/aotw/lib/python3.13/site-packages (from aiohttp<4.0.0,>=3.8.3->langchain-community->-r requirements.txt (line 8)) (1.20.1)\n",
      "Requirement already satisfied: marshmallow<4.0.0,>=3.18.0 in /home/aaron/.pyenv/versions/aotw/lib/python3.13/site-packages (from dataclasses-json<0.7,>=0.5.7->langchain-community->-r requirements.txt (line 8)) (3.26.1)\n",
      "Requirement already satisfied: typing-inspect<1,>=0.4.0 in /home/aaron/.pyenv/versions/aotw/lib/python3.13/site-packages (from dataclasses-json<0.7,>=0.5.7->langchain-community->-r requirements.txt (line 8)) (0.9.0)\n",
      "Requirement already satisfied: mypy-extensions>=0.3.0 in /home/aaron/.pyenv/versions/aotw/lib/python3.13/site-packages (from typing-inspect<1,>=0.4.0->dataclasses-json<0.7,>=0.5.7->langchain-community->-r requirements.txt (line 8)) (1.1.0)\n",
      "Downloading langchain_google_genai-2.1.5-py3-none-any.whl (44 kB)\n",
      "Downloading filetype-1.2.0-py2.py3-none-any.whl (19 kB)\n",
      "Downloading google_ai_generativelanguage-0.6.18-py3-none-any.whl (1.4 MB)\n",
      "\u001b[2K   \u001b[90m━━━━━━━━━━━━━━━━━━━━━━━━━━━━━━━━━━━━━━━━\u001b[0m \u001b[32m1.4/1.4 MB\u001b[0m \u001b[31m9.4 MB/s\u001b[0m eta \u001b[36m0:00:00\u001b[0m\n",
      "\u001b[?25hDownloading google_api_core-2.25.1-py3-none-any.whl (160 kB)\n",
      "Downloading google_auth-2.40.3-py2.py3-none-any.whl (216 kB)\n",
      "Downloading cachetools-5.5.2-py3-none-any.whl (10 kB)\n",
      "Downloading googleapis_common_protos-1.70.0-py3-none-any.whl (294 kB)\n",
      "Downloading grpcio-1.73.0-cp313-cp313-manylinux_2_17_x86_64.manylinux2014_x86_64.whl (6.0 MB)\n",
      "\u001b[2K   \u001b[90m━━━━━━━━━━━━━━━━━━━━━━━━━━━━━━━━━━━━━━━━\u001b[0m \u001b[32m6.0/6.0 MB\u001b[0m \u001b[31m6.5 MB/s\u001b[0m eta \u001b[36m0:00:00\u001b[0ma \u001b[36m0:00:01\u001b[0mm\n",
      "\u001b[?25hDownloading grpcio_status-1.73.0-py3-none-any.whl (14 kB)\n",
      "Downloading proto_plus-1.26.1-py3-none-any.whl (50 kB)\n",
      "Downloading rsa-4.9.1-py3-none-any.whl (34 kB)\n",
      "Downloading pyasn1-0.6.1-py3-none-any.whl (83 kB)\n",
      "Downloading pyasn1_modules-0.4.2-py3-none-any.whl (181 kB)\n",
      "Installing collected packages: filetype, pyasn1, proto-plus, grpcio, googleapis-common-protos, cachetools, rsa, pyasn1-modules, grpcio-status, google-auth, google-api-core, google-ai-generativelanguage, langchain_google_genai\n",
      "\u001b[2K  Attempting uninstall: cachetools\u001b[90m━━━━━━━━━━━━━━━━━━━━━━━━━━━\u001b[0m \u001b[32m 4/13\u001b[0m [googleapis-common-protos]\n",
      "\u001b[2K    Found existing installation: cachetools 6.1.0━━━━━━━━━━━━━━━━━\u001b[0m \u001b[32m 5/13\u001b[0m [cachetools]on-protos]\n",
      "\u001b[2K    Uninstalling cachetools-6.1.0:[90m━━━━━━━━━━━━━━━━━━━━━━━━\u001b[0m \u001b[32m 5/13\u001b[0m [cachetools]\n",
      "\u001b[2K      Successfully uninstalled cachetools-6.1.0━━━━━━━━━━━━━━━\u001b[0m \u001b[32m 5/13\u001b[0m [cachetools]\n",
      "\u001b[2K   \u001b[90m━━━━━━━━━━━━━━━━━━━━━━━━━━━━━━━━━━━━━━━━\u001b[0m \u001b[32m13/13\u001b[0m [langchain_google_genai]hain_google_genai]guage]\n",
      "\u001b[1A\u001b[2KSuccessfully installed cachetools-5.5.2 filetype-1.2.0 google-ai-generativelanguage-0.6.18 google-api-core-2.25.1 google-auth-2.40.3 googleapis-common-protos-1.70.0 grpcio-1.73.0 grpcio-status-1.73.0 langchain_google_genai-2.1.5 proto-plus-1.26.1 pyasn1-0.6.1 pyasn1-modules-0.4.2 rsa-4.9.1\n",
      "Note: you may need to restart the kernel to use updated packages.\n"
     ]
    }
   ],
   "source": [
    "%pip install -r requirements.txt"
   ]
  },
  {
   "cell_type": "markdown",
   "id": "503d3407",
   "metadata": {},
   "source": [
    "API Keys"
   ]
  },
  {
   "cell_type": "code",
   "execution_count": 1,
   "id": "6599a629",
   "metadata": {},
   "outputs": [],
   "source": [
    "# set your API keys i nthe .env file..\n",
    "import os\n",
    "from dotenv import load_dotenv\n",
    "load_dotenv()\n",
    "langsmith_api_key=os.getenv('LANGCHAIN_API_KEY')\n",
    "google_api_key=os.getenv('GOOGLE_API_KEY')"
   ]
  },
  {
   "cell_type": "markdown",
   "id": "5afc5554",
   "metadata": {},
   "source": [
    "Tracability"
   ]
  },
  {
   "cell_type": "code",
   "execution_count": 5,
   "id": "c8b6ca38",
   "metadata": {},
   "outputs": [],
   "source": [
    "from langchain.callbacks.tracers.langchain import LangChainTracer\n",
    "\n",
    "# Enable tracing\n",
    "tracer = LangChainTracer()"
   ]
  },
  {
   "cell_type": "markdown",
   "id": "eafdf69b",
   "metadata": {},
   "source": [
    "LLM"
   ]
  },
  {
   "cell_type": "code",
   "execution_count": 6,
   "id": "a134fff2",
   "metadata": {},
   "outputs": [],
   "source": [
    "from langchain_google_genai import ChatGoogleGenerativeAI\n",
    "\n",
    "# create the LLM\n",
    "llm = ChatGoogleGenerativeAI(\n",
    "    model=\"gemini-2.0-flash-001\",\n",
    "    google_api_key=google_api_key,\n",
    "    callbacks=[tracer])"
   ]
  },
  {
   "cell_type": "markdown",
   "id": "a19919e7",
   "metadata": {},
   "source": [
    "System"
   ]
  },
  {
   "cell_type": "code",
   "execution_count": 7,
   "id": "7967b2c3",
   "metadata": {},
   "outputs": [
    {
     "data": {
      "text/plain": [
       "SystemMessage(content='You are a helpful assistant.', additional_kwargs={}, response_metadata={})"
      ]
     },
     "execution_count": 7,
     "metadata": {},
     "output_type": "execute_result"
    }
   ],
   "source": [
    "# set the system prompt for the LLM here\n",
    "from langchain_core.messages import SystemMessage\n",
    "SystemMessage(content=\"You are a helpful assistant.\")\n"
   ]
  },
  {
   "cell_type": "markdown",
   "id": "86e72869",
   "metadata": {},
   "source": [
    "Knowledgebase"
   ]
  },
  {
   "cell_type": "code",
   "execution_count": null,
   "id": "13401d5a",
   "metadata": {},
   "outputs": [],
   "source": [
    "# set up any DB's here"
   ]
  },
  {
   "cell_type": "markdown",
   "id": "1376eb6f",
   "metadata": {},
   "source": [
    "Tools"
   ]
  },
  {
   "cell_type": "code",
   "execution_count": null,
   "id": "9f8f397b",
   "metadata": {},
   "outputs": [],
   "source": [
    "# define any tools here"
   ]
  },
  {
   "cell_type": "markdown",
   "id": "d0bae372",
   "metadata": {},
   "source": [
    "Orchestrator"
   ]
  },
  {
   "cell_type": "code",
   "execution_count": null,
   "id": "23eb5e63",
   "metadata": {},
   "outputs": [],
   "source": [
    "# set up LangChain/LangGraph here"
   ]
  }
 ],
 "metadata": {
  "kernelspec": {
   "display_name": "aotw",
   "language": "python",
   "name": "python3"
  },
  "language_info": {
   "codemirror_mode": {
    "name": "ipython",
    "version": 3
   },
   "file_extension": ".py",
   "mimetype": "text/x-python",
   "name": "python",
   "nbconvert_exporter": "python",
   "pygments_lexer": "ipython3",
   "version": "3.13.0"
  }
 },
 "nbformat": 4,
 "nbformat_minor": 5
}
